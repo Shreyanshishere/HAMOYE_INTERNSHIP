{
  "nbformat": 4,
  "nbformat_minor": 0,
  "metadata": {
    "colab": {
      "provenance": []
    },
    "kernelspec": {
      "name": "python3",
      "display_name": "Python 3"
    },
    "language_info": {
      "name": "python"
    }
  },
  "cells": [
    {
      "cell_type": "code",
      "execution_count": 1,
      "metadata": {
        "id": "LplYLDtxazLi"
      },
      "outputs": [],
      "source": [
        "import numpy as np\n",
        "import pandas as pd"
      ]
    },
    {
      "cell_type": "code",
      "source": [
        "ed=pd.read_csv(\"/content/Data_for_UCI_named.csv\")"
      ],
      "metadata": {
        "id": "c9Ce7fyya7sh"
      },
      "execution_count": 4,
      "outputs": []
    },
    {
      "cell_type": "code",
      "source": [
        "import matplotlib.pyplot as plt"
      ],
      "metadata": {
        "id": "xONh6LECbBK9"
      },
      "execution_count": 5,
      "outputs": []
    },
    {
      "cell_type": "code",
      "source": [
        "ed.info()"
      ],
      "metadata": {
        "colab": {
          "base_uri": "https://localhost:8080/"
        },
        "id": "C_FLjEBetgHd",
        "outputId": "d9aee968-4c0c-4aa3-cf48-0e0a5dbc11e4"
      },
      "execution_count": 7,
      "outputs": [
        {
          "output_type": "stream",
          "name": "stdout",
          "text": [
            "<class 'pandas.core.frame.DataFrame'>\n",
            "RangeIndex: 10000 entries, 0 to 9999\n",
            "Data columns (total 14 columns):\n",
            " #   Column  Non-Null Count  Dtype  \n",
            "---  ------  --------------  -----  \n",
            " 0   tau1    10000 non-null  float64\n",
            " 1   tau2    10000 non-null  float64\n",
            " 2   tau3    10000 non-null  float64\n",
            " 3   tau4    10000 non-null  float64\n",
            " 4   p1      10000 non-null  float64\n",
            " 5   p2      10000 non-null  float64\n",
            " 6   p3      10000 non-null  float64\n",
            " 7   p4      10000 non-null  float64\n",
            " 8   g1      10000 non-null  float64\n",
            " 9   g2      10000 non-null  float64\n",
            " 10  g3      10000 non-null  float64\n",
            " 11  g4      10000 non-null  float64\n",
            " 12  stab    10000 non-null  float64\n",
            " 13  stabf   10000 non-null  object \n",
            "dtypes: float64(13), object(1)\n",
            "memory usage: 1.1+ MB\n"
          ]
        }
      ]
    },
    {
      "cell_type": "code",
      "source": [
        "ed = ed.drop('stab', axis =1)\n"
      ],
      "metadata": {
        "id": "bWI6rhS_tr_i"
      },
      "execution_count": 8,
      "outputs": []
    },
    {
      "cell_type": "code",
      "source": [
        "ed['stabf'].value_counts()"
      ],
      "metadata": {
        "colab": {
          "base_uri": "https://localhost:8080/"
        },
        "id": "yuaFR8BEt1tU",
        "outputId": "8f79590a-a746-413c-9860-7729471a2ffa"
      },
      "execution_count": 9,
      "outputs": [
        {
          "output_type": "execute_result",
          "data": {
            "text/plain": [
              "unstable    6380\n",
              "stable      3620\n",
              "Name: stabf, dtype: int64"
            ]
          },
          "metadata": {},
          "execution_count": 9
        }
      ]
    },
    {
      "cell_type": "code",
      "source": [
        "x = ed.drop(columns=['stabf'])\n",
        "\n",
        "y = ed['stabf']\n",
        "     "
      ],
      "metadata": {
        "id": "njzqQAVZt5jE"
      },
      "execution_count": 10,
      "outputs": []
    },
    {
      "cell_type": "code",
      "source": [
        "from sklearn.model_selection import train_test_split\n",
        "\n",
        "x_train, x_test, y_train, y_test = train_test_split(x, y, test_size=0.2, random_state=1)\n",
        "\n",
        "print('X_train shape: {}'.format(x_train.shape))\n",
        "print('y_train shape: {}'.format(y_train.shape))\n",
        "print('X_test shape: {}'.format(x_test.shape))\n",
        "print('y_test shape: {}'.format(y_test.shape))\n",
        "     "
      ],
      "metadata": {
        "colab": {
          "base_uri": "https://localhost:8080/"
        },
        "id": "_J74VdPTt_ft",
        "outputId": "f2e7350a-702b-412c-a41a-eeccd3df530c"
      },
      "execution_count": 11,
      "outputs": [
        {
          "output_type": "stream",
          "name": "stdout",
          "text": [
            "X_train shape: (8000, 12)\n",
            "y_train shape: (8000,)\n",
            "X_test shape: (2000, 12)\n",
            "y_test shape: (2000,)\n"
          ]
        }
      ]
    },
    {
      "cell_type": "code",
      "source": [
        "from sklearn.preprocessing import StandardScaler\n",
        "\n",
        "scaler = StandardScaler()\n",
        "scaler.fit(x_train)\n",
        "\n",
        "x_train_scaled = scaler.transform(x_train)\n",
        "x_test_scaled = scaler.transform(x_test)"
      ],
      "metadata": {
        "id": "t8HhoPcYuDn5"
      },
      "execution_count": 12,
      "outputs": []
    },
    {
      "cell_type": "code",
      "source": [
        "from sklearn.ensemble import RandomForestClassifier\n",
        "\n",
        "rf = RandomForestClassifier(random_state = 1)\n",
        "\n",
        "\n",
        "rf.fit(x_train_scaled, y_train)"
      ],
      "metadata": {
        "colab": {
          "base_uri": "https://localhost:8080/"
        },
        "id": "zpL3rxFDuGhR",
        "outputId": "a0e29fc5-5b8a-43b6-f342-ec864792320e"
      },
      "execution_count": 14,
      "outputs": [
        {
          "output_type": "execute_result",
          "data": {
            "text/plain": [
              "RandomForestClassifier(random_state=1)"
            ]
          },
          "metadata": {},
          "execution_count": 14
        }
      ]
    },
    {
      "cell_type": "code",
      "source": [
        "rf_pred = rf.predict(x_test_scaled)"
      ],
      "metadata": {
        "id": "-StT04NhuJXW"
      },
      "execution_count": 15,
      "outputs": []
    },
    {
      "cell_type": "code",
      "source": [
        "from sklearn.metrics import accuracy_score\n",
        "\n",
        "accuracy = accuracy_score(y_test, rf_pred)\n",
        "print('Accuracy: {}'.format(round(accuracy*100), 4))\n",
        "\n",
        "from sklearn.metrics import recall_score, precision_score, f1_score, confusion_matrix, classification_report\n",
        "\n",
        "\n",
        "precision = precision_score(y_test, rf_pred, pos_label='stable')\n",
        "print('Precision: {}'.format(round(precision*100), 2))  \n",
        "\n",
        "\n",
        "f1 = f1_score(y_test, rf_pred, pos_label='stable')\n",
        "print('F1: {}'.format(round(f1*100), 2))\n",
        "recall = recall_score(y_test, rf_pred, pos_label='stable')\n",
        "print('Recall: {}'.format(round(recall*100), 2))\n",
        "\n",
        "\n",
        "\n",
        "\n",
        "print('Classification Report:\\n', classification_report(y_test,rf_pred, digits =4))\n",
        "\n",
        "\n",
        "rf_cnf_mat = confusion_matrix(y_test, rf_pred, labels=['unstable', 'stable'])\n",
        "print('Confusion Matrix:\\n', rf_cnf_mat)"
      ],
      "metadata": {
        "colab": {
          "base_uri": "https://localhost:8080/"
        },
        "id": "SfC0LNXLuOjn",
        "outputId": "42d82fc5-7a41-4df0-bdc2-4600a4119dd9"
      },
      "execution_count": 16,
      "outputs": [
        {
          "output_type": "stream",
          "name": "stdout",
          "text": [
            "Accuracy: 93\n",
            "Precision: 92\n",
            "F1: 90\n",
            "Recall: 88\n",
            "Classification Report:\n",
            "               precision    recall  f1-score   support\n",
            "\n",
            "      stable     0.9191    0.8778    0.8980       712\n",
            "    unstable     0.9341    0.9573    0.9456      1288\n",
            "\n",
            "    accuracy                         0.9290      2000\n",
            "   macro avg     0.9266    0.9176    0.9218      2000\n",
            "weighted avg     0.9288    0.9290    0.9286      2000\n",
            "\n",
            "Confusion Matrix:\n",
            " [[1233   55]\n",
            " [  87  625]]\n"
          ]
        }
      ]
    },
    {
      "cell_type": "code",
      "source": [
        "\n",
        "print(\"Training set score: {:.3f}\".format(rf.score(x_train_scaled, y_train)))\n",
        "print(\"Test set score: {:.3f}\".format(rf.score(x_test_scaled, y_test)))\n"
      ],
      "metadata": {
        "colab": {
          "base_uri": "https://localhost:8080/"
        },
        "id": "WLqZoRviuYLu",
        "outputId": "b3fc7712-55fb-4e0e-bf5e-b442e7b82c72"
      },
      "execution_count": 17,
      "outputs": [
        {
          "output_type": "stream",
          "name": "stdout",
          "text": [
            "Training set score: 1.000\n",
            "Test set score: 0.929\n"
          ]
        }
      ]
    },
    {
      "cell_type": "code",
      "source": [
        "\n",
        "from sklearn.ensemble import ExtraTreesClassifier\n",
        "\n",
        "etc = ExtraTreesClassifier(random_state = 1)\n",
        "\n",
        "etc.fit(x_train_scaled, y_train)"
      ],
      "metadata": {
        "colab": {
          "base_uri": "https://localhost:8080/"
        },
        "id": "HgoHyqwsubh0",
        "outputId": "c4df9c91-eca7-40ff-b9fe-1b19472a5a88"
      },
      "execution_count": 18,
      "outputs": [
        {
          "output_type": "execute_result",
          "data": {
            "text/plain": [
              "ExtraTreesClassifier(random_state=1)"
            ]
          },
          "metadata": {},
          "execution_count": 18
        }
      ]
    },
    {
      "cell_type": "code",
      "source": [
        "etc_pred = etc.predict(x_test_scaled)"
      ],
      "metadata": {
        "id": "1r-uvgw3uivY"
      },
      "execution_count": 19,
      "outputs": []
    },
    {
      "cell_type": "code",
      "source": [
        "etc_accuracy = accuracy_score(y_test, etc_pred)\n",
        "print('Accuracy: {}'.format(round(etc_accuracy*100), 2))\n",
        "\n",
        "#precision\n",
        "etc_precision = precision_score(y_test, etc_pred, pos_label='stable')\n",
        "print('Precision: {}'.format(round(etc_precision*100), 2))  \n",
        "#F1 score\n",
        "etc_f1 = f1_score(y_test, etc_pred, pos_label='stable')\n",
        "print('F1: {}'.format(round(etc_f1*100), 2))\n",
        "\n",
        "#recall\n",
        "etc_recall = recall_score(y_test, etc_pred, pos_label='stable')\n",
        "print('Recall: {}'.format(round(etc_recall*100), 2))\n",
        "\n",
        "\n",
        "#classification report\n",
        "print('Classification Report:\\n', classification_report(y_test,etc_pred, digits =4))\n",
        "\n",
        "#confusion matrix\n",
        "etc_cnf_mat = confusion_matrix(y_test, etc_pred)\n",
        "print('Confusion Matrix:\\n', etc_cnf_mat)\n"
      ],
      "metadata": {
        "colab": {
          "base_uri": "https://localhost:8080/"
        },
        "id": "YqbcVBi6uld3",
        "outputId": "bc4963c5-6aef-4971-b10c-d5f79d6d8d78"
      },
      "execution_count": 20,
      "outputs": [
        {
          "output_type": "stream",
          "name": "stdout",
          "text": [
            "Accuracy: 93\n",
            "Precision: 94\n",
            "F1: 89\n",
            "Recall: 85\n",
            "Classification Report:\n",
            "               precision    recall  f1-score   support\n",
            "\n",
            "      stable     0.9410    0.8511    0.8938       712\n",
            "    unstable     0.9218    0.9705    0.9455      1288\n",
            "\n",
            "    accuracy                         0.9280      2000\n",
            "   macro avg     0.9314    0.9108    0.9197      2000\n",
            "weighted avg     0.9287    0.9280    0.9271      2000\n",
            "\n",
            "Confusion Matrix:\n",
            " [[ 606  106]\n",
            " [  38 1250]]\n"
          ]
        }
      ]
    },
    {
      "cell_type": "code",
      "source": [
        "\n",
        "print(\"Training set score: {:.3f}\".format(etc.score(x_train_scaled, y_train)))\n",
        "print(\"Test set score: {:.3f}\".format(etc.score(x_test_scaled, y_test)))"
      ],
      "metadata": {
        "colab": {
          "base_uri": "https://localhost:8080/"
        },
        "id": "NAIA5C7Zup1e",
        "outputId": "fb64a1aa-be7e-448c-f658-f6ced49d4114"
      },
      "execution_count": 21,
      "outputs": [
        {
          "output_type": "stream",
          "name": "stdout",
          "text": [
            "Training set score: 1.000\n",
            "Test set score: 0.928\n"
          ]
        }
      ]
    },
    {
      "cell_type": "code",
      "source": [
        "\n",
        "from xgboost import XGBClassifier\n",
        "\n",
        "xbc= XGBClassifier(random_state = 1)\n",
        "\n",
        "xbc.fit(x_train_scaled, y_train)"
      ],
      "metadata": {
        "colab": {
          "base_uri": "https://localhost:8080/"
        },
        "id": "G_vWV8P2us0e",
        "outputId": "cc4d524c-edb3-43ab-f7cb-54c3175d22ea"
      },
      "execution_count": 23,
      "outputs": [
        {
          "output_type": "execute_result",
          "data": {
            "text/plain": [
              "XGBClassifier(random_state=1)"
            ]
          },
          "metadata": {},
          "execution_count": 23
        }
      ]
    },
    {
      "cell_type": "code",
      "source": [
        "xbc_pred = xbc.predict(x_test_scaled)\n",
        "     "
      ],
      "metadata": {
        "id": "llBxr_2PuwQo"
      },
      "execution_count": 24,
      "outputs": []
    },
    {
      "cell_type": "code",
      "source": [
        "xbc_accuracy = accuracy_score(y_test, xbc_pred)\n",
        "print('Accuracy: {}'.format(round(xbc_accuracy*100), 2))\n",
        "\n",
        "#precision\n",
        "xbc_precision = precision_score(y_test, xbc_pred, pos_label='stable')\n",
        "print('Precision: {}'.format(round(xbc_precision*100), 2))  \n",
        "\n",
        "#recall\n",
        "xbc_recall = recall_score(y_test, xbc_pred, pos_label='stable')\n",
        "print('Recall: {}'.format(round(xbc_recall*100), 2))\n",
        "\n",
        "#F1 score\n",
        "xbc_f1 = f1_score(y_test, xbc_pred, pos_label='stable')\n",
        "print('F1: {}'.format(round(xbc_f1*100), 2))\n",
        "\n",
        "#classification report\n",
        "print('Classification Report:\\n', classification_report(y_test,xbc_pred, digits =4))\n",
        "\n",
        "#confusion matrix\n",
        "c_cnf_mat = confusion_matrix(y_test, xbc_pred)\n",
        "print('Confusion Matrix:\\n', c_cnf_mat)"
      ],
      "metadata": {
        "colab": {
          "base_uri": "https://localhost:8080/"
        },
        "id": "sUdS2VBhuzvE",
        "outputId": "e20d5c17-2846-4c65-9f88-986e75e6ea2b"
      },
      "execution_count": 27,
      "outputs": [
        {
          "output_type": "stream",
          "name": "stdout",
          "text": [
            "Accuracy: 92\n",
            "Precision: 92\n",
            "Recall: 85\n",
            "F1: 88\n",
            "Classification Report:\n",
            "               precision    recall  f1-score   support\n",
            "\n",
            "      stable     0.9206    0.8469    0.8822       712\n",
            "    unstable     0.9190    0.9596    0.9389      1288\n",
            "\n",
            "    accuracy                         0.9195      2000\n",
            "   macro avg     0.9198    0.9033    0.9105      2000\n",
            "weighted avg     0.9195    0.9195    0.9187      2000\n",
            "\n",
            "Confusion Matrix:\n",
            " [[ 603  109]\n",
            " [  52 1236]]\n"
          ]
        }
      ]
    },
    {
      "cell_type": "code",
      "source": [
        "from lightgbm import LGBMClassifier\n",
        "\n",
        "lgbm= LGBMClassifier(random_state = 1)\n",
        "\n",
        "lgbm.fit(x_train_scaled, y_train)\n"
      ],
      "metadata": {
        "colab": {
          "base_uri": "https://localhost:8080/"
        },
        "id": "EwDr7flBu4Nh",
        "outputId": "0d8dc76d-68a3-462c-dad8-c9a4a9113261"
      },
      "execution_count": 28,
      "outputs": [
        {
          "output_type": "execute_result",
          "data": {
            "text/plain": [
              "LGBMClassifier(random_state=1)"
            ]
          },
          "metadata": {},
          "execution_count": 28
        }
      ]
    },
    {
      "cell_type": "code",
      "source": [
        "lgbm_pred = lgbm.predict(x_test_scaled)"
      ],
      "metadata": {
        "id": "pNGPWQATvNgQ"
      },
      "execution_count": 29,
      "outputs": []
    },
    {
      "cell_type": "code",
      "source": [
        "lgbm_accuracy = accuracy_score(y_test, lgbm_pred)\n",
        "print('Accuracy: {}'.format(round(lgbm_accuracy*100), 2))\n",
        "\n",
        "#precision\n",
        "lgbm_precision = precision_score(y_test, lgbm_pred, pos_label='stable')\n",
        "print('Precision: {}'.format(round(lgbm_precision*100), 2))  \n",
        "#F1 score\n",
        "lgbm_f1 = f1_score(y_test, lgbm_pred, pos_label='stable')\n",
        "print('F1: {}'.format(round(lgbm_f1*100), 2))\n",
        "\n",
        "#recall\n",
        "lgbm_recall = recall_score(y_test, lgbm_pred, pos_label='stable')\n",
        "print('Recall: {}'.format(round(lgbm_recall*100), 2))\n",
        "\n",
        "\n",
        "#classification report\n",
        "print('Classification Report:\\n', classification_report(y_test,lgbm_pred, digits =4))\n",
        "\n",
        "#confusion matrix\n",
        "lgbm_cnf_mat = confusion_matrix(y_test, lgbm_pred)\n",
        "print('Confusion Matrix:\\n', lgbm_cnf_mat)\n"
      ],
      "metadata": {
        "colab": {
          "base_uri": "https://localhost:8080/"
        },
        "id": "kDxi0ReZvPVB",
        "outputId": "0afc6512-fc26-4055-c41b-4ba6f1f2af75"
      },
      "execution_count": 31,
      "outputs": [
        {
          "output_type": "stream",
          "name": "stdout",
          "text": [
            "Accuracy: 94\n",
            "Precision: 93\n",
            "F1: 91\n",
            "Recall: 89\n",
            "Classification Report:\n",
            "               precision    recall  f1-score   support\n",
            "\n",
            "      stable     0.9297    0.8919    0.9104       712\n",
            "    unstable     0.9415    0.9627    0.9520      1288\n",
            "\n",
            "    accuracy                         0.9375      2000\n",
            "   macro avg     0.9356    0.9273    0.9312      2000\n",
            "weighted avg     0.9373    0.9375    0.9372      2000\n",
            "\n",
            "Confusion Matrix:\n",
            " [[ 635   77]\n",
            " [  48 1240]]\n"
          ]
        }
      ]
    },
    {
      "cell_type": "code",
      "source": [],
      "metadata": {
        "id": "jEp53I6CvTXU"
      },
      "execution_count": null,
      "outputs": []
    }
  ]
}